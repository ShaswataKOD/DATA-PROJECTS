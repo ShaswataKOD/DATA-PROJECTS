{
  "nbformat": 4,
  "nbformat_minor": 0,
  "metadata": {
    "colab": {
      "provenance": [],
      "authorship_tag": "ABX9TyNPwOE8I1pn3DeioiGreW+m",
      "include_colab_link": true
    },
    "kernelspec": {
      "name": "python3",
      "display_name": "Python 3"
    },
    "language_info": {
      "name": "python"
    }
  },
  "cells": [
    {
      "cell_type": "markdown",
      "metadata": {
        "id": "view-in-github",
        "colab_type": "text"
      },
      "source": [
        "<a href=\"https://colab.research.google.com/github/ShaswataKOD/DATA-PROJECTS/blob/main/AnomalyDetection.ipynb\" target=\"_parent\"><img src=\"https://colab.research.google.com/assets/colab-badge.svg\" alt=\"Open In Colab\"/></a>"
      ]
    },
    {
      "cell_type": "code",
      "source": [
        "import pandas as pd\n",
        "import numpy as np\n",
        "import matplotlib.pyplot as plt\n",
        "import seaborn as sns"
      ],
      "metadata": {
        "id": "0EQ8Lr9Kvj1k"
      },
      "execution_count": null,
      "outputs": []
    },
    {
      "cell_type": "code",
      "source": [
        "!pip install opendatasets\n",
        "import opendatasets as od\n",
        "dataset_url = \"https://www.kaggle.com/datasets/dnkumars/industrial-equipment-monitoring-dataset\"\n",
        "od.download(dataset_url)\n",
        "\n",
        "import os\n",
        "print(os.listdir(\"/content/\"))\n",
        "dataset_path = \"/content/industrial-equipment-monitoring-dataset\"  # Change if needed\n",
        "print(os.listdir(dataset_path))\n",
        "\n",
        "\n"
      ],
      "metadata": {
        "colab": {
          "base_uri": "https://localhost:8080/"
        },
        "id": "Ib1O4zu2v-gr",
        "outputId": "09c07618-ae66-437f-ebca-4016013fefa9"
      },
      "execution_count": null,
      "outputs": [
        {
          "output_type": "stream",
          "name": "stdout",
          "text": [
            "Requirement already satisfied: opendatasets in /usr/local/lib/python3.11/dist-packages (0.1.22)\n",
            "Requirement already satisfied: tqdm in /usr/local/lib/python3.11/dist-packages (from opendatasets) (4.67.1)\n",
            "Requirement already satisfied: kaggle in /usr/local/lib/python3.11/dist-packages (from opendatasets) (1.7.4.2)\n",
            "Requirement already satisfied: click in /usr/local/lib/python3.11/dist-packages (from opendatasets) (8.1.8)\n",
            "Requirement already satisfied: bleach in /usr/local/lib/python3.11/dist-packages (from kaggle->opendatasets) (6.2.0)\n",
            "Requirement already satisfied: certifi>=14.05.14 in /usr/local/lib/python3.11/dist-packages (from kaggle->opendatasets) (2025.1.31)\n",
            "Requirement already satisfied: charset-normalizer in /usr/local/lib/python3.11/dist-packages (from kaggle->opendatasets) (3.4.1)\n",
            "Requirement already satisfied: idna in /usr/local/lib/python3.11/dist-packages (from kaggle->opendatasets) (3.10)\n",
            "Requirement already satisfied: protobuf in /usr/local/lib/python3.11/dist-packages (from kaggle->opendatasets) (5.29.4)\n",
            "Requirement already satisfied: python-dateutil>=2.5.3 in /usr/local/lib/python3.11/dist-packages (from kaggle->opendatasets) (2.8.2)\n",
            "Requirement already satisfied: python-slugify in /usr/local/lib/python3.11/dist-packages (from kaggle->opendatasets) (8.0.4)\n",
            "Requirement already satisfied: requests in /usr/local/lib/python3.11/dist-packages (from kaggle->opendatasets) (2.32.3)\n",
            "Requirement already satisfied: setuptools>=21.0.0 in /usr/local/lib/python3.11/dist-packages (from kaggle->opendatasets) (75.1.0)\n",
            "Requirement already satisfied: six>=1.10 in /usr/local/lib/python3.11/dist-packages (from kaggle->opendatasets) (1.17.0)\n",
            "Requirement already satisfied: text-unidecode in /usr/local/lib/python3.11/dist-packages (from kaggle->opendatasets) (1.3)\n",
            "Requirement already satisfied: urllib3>=1.15.1 in /usr/local/lib/python3.11/dist-packages (from kaggle->opendatasets) (2.3.0)\n",
            "Requirement already satisfied: webencodings in /usr/local/lib/python3.11/dist-packages (from kaggle->opendatasets) (0.5.1)\n",
            "Skipping, found downloaded files in \"./industrial-equipment-monitoring-dataset\" (use force=True to force download)\n",
            "['.config', 'industrial-equipment-monitoring-dataset', 'sample_data']\n",
            "['equipment_anomaly_data.csv']\n"
          ]
        }
      ]
    },
    {
      "cell_type": "code",
      "source": [
        "df = pd.read_csv(\"/content/industrial-equipment-monitoring-dataset/equipment_anomaly_data.csv\")\n",
        "df.head(5)"
      ],
      "metadata": {
        "colab": {
          "base_uri": "https://localhost:8080/",
          "height": 206
        },
        "id": "WtdXBQWjzK5m",
        "outputId": "4b98e4b2-817c-4913-cdab-65504c24130c"
      },
      "execution_count": null,
      "outputs": [
        {
          "output_type": "execute_result",
          "data": {
            "text/plain": [
              "   temperature   pressure  vibration   humidity   equipment       location  \\\n",
              "0    58.180180  25.029278   0.606516  45.694907     Turbine        Atlanta   \n",
              "1    75.740712  22.954018   2.338095  41.867407  Compressor        Chicago   \n",
              "2    71.358594  27.276830   1.389198  58.954409     Turbine  San Francisco   \n",
              "3    71.616985  32.242921   1.770690  40.565138        Pump        Atlanta   \n",
              "4    66.506832  45.197471   0.345398  43.253795        Pump       New York   \n",
              "\n",
              "   faulty  \n",
              "0     0.0  \n",
              "1     0.0  \n",
              "2     0.0  \n",
              "3     0.0  \n",
              "4     0.0  "
            ],
            "text/html": [
              "\n",
              "  <div id=\"df-afb04268-42be-4ef4-b9a6-c111d0d28620\" class=\"colab-df-container\">\n",
              "    <div>\n",
              "<style scoped>\n",
              "    .dataframe tbody tr th:only-of-type {\n",
              "        vertical-align: middle;\n",
              "    }\n",
              "\n",
              "    .dataframe tbody tr th {\n",
              "        vertical-align: top;\n",
              "    }\n",
              "\n",
              "    .dataframe thead th {\n",
              "        text-align: right;\n",
              "    }\n",
              "</style>\n",
              "<table border=\"1\" class=\"dataframe\">\n",
              "  <thead>\n",
              "    <tr style=\"text-align: right;\">\n",
              "      <th></th>\n",
              "      <th>temperature</th>\n",
              "      <th>pressure</th>\n",
              "      <th>vibration</th>\n",
              "      <th>humidity</th>\n",
              "      <th>equipment</th>\n",
              "      <th>location</th>\n",
              "      <th>faulty</th>\n",
              "    </tr>\n",
              "  </thead>\n",
              "  <tbody>\n",
              "    <tr>\n",
              "      <th>0</th>\n",
              "      <td>58.180180</td>\n",
              "      <td>25.029278</td>\n",
              "      <td>0.606516</td>\n",
              "      <td>45.694907</td>\n",
              "      <td>Turbine</td>\n",
              "      <td>Atlanta</td>\n",
              "      <td>0.0</td>\n",
              "    </tr>\n",
              "    <tr>\n",
              "      <th>1</th>\n",
              "      <td>75.740712</td>\n",
              "      <td>22.954018</td>\n",
              "      <td>2.338095</td>\n",
              "      <td>41.867407</td>\n",
              "      <td>Compressor</td>\n",
              "      <td>Chicago</td>\n",
              "      <td>0.0</td>\n",
              "    </tr>\n",
              "    <tr>\n",
              "      <th>2</th>\n",
              "      <td>71.358594</td>\n",
              "      <td>27.276830</td>\n",
              "      <td>1.389198</td>\n",
              "      <td>58.954409</td>\n",
              "      <td>Turbine</td>\n",
              "      <td>San Francisco</td>\n",
              "      <td>0.0</td>\n",
              "    </tr>\n",
              "    <tr>\n",
              "      <th>3</th>\n",
              "      <td>71.616985</td>\n",
              "      <td>32.242921</td>\n",
              "      <td>1.770690</td>\n",
              "      <td>40.565138</td>\n",
              "      <td>Pump</td>\n",
              "      <td>Atlanta</td>\n",
              "      <td>0.0</td>\n",
              "    </tr>\n",
              "    <tr>\n",
              "      <th>4</th>\n",
              "      <td>66.506832</td>\n",
              "      <td>45.197471</td>\n",
              "      <td>0.345398</td>\n",
              "      <td>43.253795</td>\n",
              "      <td>Pump</td>\n",
              "      <td>New York</td>\n",
              "      <td>0.0</td>\n",
              "    </tr>\n",
              "  </tbody>\n",
              "</table>\n",
              "</div>\n",
              "    <div class=\"colab-df-buttons\">\n",
              "\n",
              "  <div class=\"colab-df-container\">\n",
              "    <button class=\"colab-df-convert\" onclick=\"convertToInteractive('df-afb04268-42be-4ef4-b9a6-c111d0d28620')\"\n",
              "            title=\"Convert this dataframe to an interactive table.\"\n",
              "            style=\"display:none;\">\n",
              "\n",
              "  <svg xmlns=\"http://www.w3.org/2000/svg\" height=\"24px\" viewBox=\"0 -960 960 960\">\n",
              "    <path d=\"M120-120v-720h720v720H120Zm60-500h600v-160H180v160Zm220 220h160v-160H400v160Zm0 220h160v-160H400v160ZM180-400h160v-160H180v160Zm440 0h160v-160H620v160ZM180-180h160v-160H180v160Zm440 0h160v-160H620v160Z\"/>\n",
              "  </svg>\n",
              "    </button>\n",
              "\n",
              "  <style>\n",
              "    .colab-df-container {\n",
              "      display:flex;\n",
              "      gap: 12px;\n",
              "    }\n",
              "\n",
              "    .colab-df-convert {\n",
              "      background-color: #E8F0FE;\n",
              "      border: none;\n",
              "      border-radius: 50%;\n",
              "      cursor: pointer;\n",
              "      display: none;\n",
              "      fill: #1967D2;\n",
              "      height: 32px;\n",
              "      padding: 0 0 0 0;\n",
              "      width: 32px;\n",
              "    }\n",
              "\n",
              "    .colab-df-convert:hover {\n",
              "      background-color: #E2EBFA;\n",
              "      box-shadow: 0px 1px 2px rgba(60, 64, 67, 0.3), 0px 1px 3px 1px rgba(60, 64, 67, 0.15);\n",
              "      fill: #174EA6;\n",
              "    }\n",
              "\n",
              "    .colab-df-buttons div {\n",
              "      margin-bottom: 4px;\n",
              "    }\n",
              "\n",
              "    [theme=dark] .colab-df-convert {\n",
              "      background-color: #3B4455;\n",
              "      fill: #D2E3FC;\n",
              "    }\n",
              "\n",
              "    [theme=dark] .colab-df-convert:hover {\n",
              "      background-color: #434B5C;\n",
              "      box-shadow: 0px 1px 3px 1px rgba(0, 0, 0, 0.15);\n",
              "      filter: drop-shadow(0px 1px 2px rgba(0, 0, 0, 0.3));\n",
              "      fill: #FFFFFF;\n",
              "    }\n",
              "  </style>\n",
              "\n",
              "    <script>\n",
              "      const buttonEl =\n",
              "        document.querySelector('#df-afb04268-42be-4ef4-b9a6-c111d0d28620 button.colab-df-convert');\n",
              "      buttonEl.style.display =\n",
              "        google.colab.kernel.accessAllowed ? 'block' : 'none';\n",
              "\n",
              "      async function convertToInteractive(key) {\n",
              "        const element = document.querySelector('#df-afb04268-42be-4ef4-b9a6-c111d0d28620');\n",
              "        const dataTable =\n",
              "          await google.colab.kernel.invokeFunction('convertToInteractive',\n",
              "                                                    [key], {});\n",
              "        if (!dataTable) return;\n",
              "\n",
              "        const docLinkHtml = 'Like what you see? Visit the ' +\n",
              "          '<a target=\"_blank\" href=https://colab.research.google.com/notebooks/data_table.ipynb>data table notebook</a>'\n",
              "          + ' to learn more about interactive tables.';\n",
              "        element.innerHTML = '';\n",
              "        dataTable['output_type'] = 'display_data';\n",
              "        await google.colab.output.renderOutput(dataTable, element);\n",
              "        const docLink = document.createElement('div');\n",
              "        docLink.innerHTML = docLinkHtml;\n",
              "        element.appendChild(docLink);\n",
              "      }\n",
              "    </script>\n",
              "  </div>\n",
              "\n",
              "\n",
              "<div id=\"df-a77462b4-9c31-4dd1-8a2f-a27cc5118721\">\n",
              "  <button class=\"colab-df-quickchart\" onclick=\"quickchart('df-a77462b4-9c31-4dd1-8a2f-a27cc5118721')\"\n",
              "            title=\"Suggest charts\"\n",
              "            style=\"display:none;\">\n",
              "\n",
              "<svg xmlns=\"http://www.w3.org/2000/svg\" height=\"24px\"viewBox=\"0 0 24 24\"\n",
              "     width=\"24px\">\n",
              "    <g>\n",
              "        <path d=\"M19 3H5c-1.1 0-2 .9-2 2v14c0 1.1.9 2 2 2h14c1.1 0 2-.9 2-2V5c0-1.1-.9-2-2-2zM9 17H7v-7h2v7zm4 0h-2V7h2v10zm4 0h-2v-4h2v4z\"/>\n",
              "    </g>\n",
              "</svg>\n",
              "  </button>\n",
              "\n",
              "<style>\n",
              "  .colab-df-quickchart {\n",
              "      --bg-color: #E8F0FE;\n",
              "      --fill-color: #1967D2;\n",
              "      --hover-bg-color: #E2EBFA;\n",
              "      --hover-fill-color: #174EA6;\n",
              "      --disabled-fill-color: #AAA;\n",
              "      --disabled-bg-color: #DDD;\n",
              "  }\n",
              "\n",
              "  [theme=dark] .colab-df-quickchart {\n",
              "      --bg-color: #3B4455;\n",
              "      --fill-color: #D2E3FC;\n",
              "      --hover-bg-color: #434B5C;\n",
              "      --hover-fill-color: #FFFFFF;\n",
              "      --disabled-bg-color: #3B4455;\n",
              "      --disabled-fill-color: #666;\n",
              "  }\n",
              "\n",
              "  .colab-df-quickchart {\n",
              "    background-color: var(--bg-color);\n",
              "    border: none;\n",
              "    border-radius: 50%;\n",
              "    cursor: pointer;\n",
              "    display: none;\n",
              "    fill: var(--fill-color);\n",
              "    height: 32px;\n",
              "    padding: 0;\n",
              "    width: 32px;\n",
              "  }\n",
              "\n",
              "  .colab-df-quickchart:hover {\n",
              "    background-color: var(--hover-bg-color);\n",
              "    box-shadow: 0 1px 2px rgba(60, 64, 67, 0.3), 0 1px 3px 1px rgba(60, 64, 67, 0.15);\n",
              "    fill: var(--button-hover-fill-color);\n",
              "  }\n",
              "\n",
              "  .colab-df-quickchart-complete:disabled,\n",
              "  .colab-df-quickchart-complete:disabled:hover {\n",
              "    background-color: var(--disabled-bg-color);\n",
              "    fill: var(--disabled-fill-color);\n",
              "    box-shadow: none;\n",
              "  }\n",
              "\n",
              "  .colab-df-spinner {\n",
              "    border: 2px solid var(--fill-color);\n",
              "    border-color: transparent;\n",
              "    border-bottom-color: var(--fill-color);\n",
              "    animation:\n",
              "      spin 1s steps(1) infinite;\n",
              "  }\n",
              "\n",
              "  @keyframes spin {\n",
              "    0% {\n",
              "      border-color: transparent;\n",
              "      border-bottom-color: var(--fill-color);\n",
              "      border-left-color: var(--fill-color);\n",
              "    }\n",
              "    20% {\n",
              "      border-color: transparent;\n",
              "      border-left-color: var(--fill-color);\n",
              "      border-top-color: var(--fill-color);\n",
              "    }\n",
              "    30% {\n",
              "      border-color: transparent;\n",
              "      border-left-color: var(--fill-color);\n",
              "      border-top-color: var(--fill-color);\n",
              "      border-right-color: var(--fill-color);\n",
              "    }\n",
              "    40% {\n",
              "      border-color: transparent;\n",
              "      border-right-color: var(--fill-color);\n",
              "      border-top-color: var(--fill-color);\n",
              "    }\n",
              "    60% {\n",
              "      border-color: transparent;\n",
              "      border-right-color: var(--fill-color);\n",
              "    }\n",
              "    80% {\n",
              "      border-color: transparent;\n",
              "      border-right-color: var(--fill-color);\n",
              "      border-bottom-color: var(--fill-color);\n",
              "    }\n",
              "    90% {\n",
              "      border-color: transparent;\n",
              "      border-bottom-color: var(--fill-color);\n",
              "    }\n",
              "  }\n",
              "</style>\n",
              "\n",
              "  <script>\n",
              "    async function quickchart(key) {\n",
              "      const quickchartButtonEl =\n",
              "        document.querySelector('#' + key + ' button');\n",
              "      quickchartButtonEl.disabled = true;  // To prevent multiple clicks.\n",
              "      quickchartButtonEl.classList.add('colab-df-spinner');\n",
              "      try {\n",
              "        const charts = await google.colab.kernel.invokeFunction(\n",
              "            'suggestCharts', [key], {});\n",
              "      } catch (error) {\n",
              "        console.error('Error during call to suggestCharts:', error);\n",
              "      }\n",
              "      quickchartButtonEl.classList.remove('colab-df-spinner');\n",
              "      quickchartButtonEl.classList.add('colab-df-quickchart-complete');\n",
              "    }\n",
              "    (() => {\n",
              "      let quickchartButtonEl =\n",
              "        document.querySelector('#df-a77462b4-9c31-4dd1-8a2f-a27cc5118721 button');\n",
              "      quickchartButtonEl.style.display =\n",
              "        google.colab.kernel.accessAllowed ? 'block' : 'none';\n",
              "    })();\n",
              "  </script>\n",
              "</div>\n",
              "\n",
              "    </div>\n",
              "  </div>\n"
            ],
            "application/vnd.google.colaboratory.intrinsic+json": {
              "type": "dataframe",
              "variable_name": "df",
              "summary": "{\n  \"name\": \"df\",\n  \"rows\": 7672,\n  \"fields\": [\n    {\n      \"column\": \"temperature\",\n      \"properties\": {\n        \"dtype\": \"number\",\n        \"std\": 16.20005890567919,\n        \"min\": 10.269384763629008,\n        \"max\": 149.6904197890206,\n        \"num_unique_values\": 7672,\n        \"samples\": [\n          119.5577318148199,\n          80.36632351025234,\n          65.34194430881837\n        ],\n        \"semantic_type\": \"\",\n        \"description\": \"\"\n      }\n    },\n    {\n      \"column\": \"pressure\",\n      \"properties\": {\n        \"dtype\": \"number\",\n        \"std\": 10.38159306937825,\n        \"min\": 3.620797987053262,\n        \"max\": 79.88773351925018,\n        \"num_unique_values\": 7672,\n        \"samples\": [\n          59.41752219251303,\n          42.13266974862777,\n          20.264647368547656\n        ],\n        \"semantic_type\": \"\",\n        \"description\": \"\"\n      }\n    },\n    {\n      \"column\": \"vibration\",\n      \"properties\": {\n        \"dtype\": \"number\",\n        \"std\": 0.7285601038822845,\n        \"min\": -0.4281876646202984,\n        \"max\": 4.990537369353191,\n        \"num_unique_values\": 7672,\n        \"samples\": [\n          1.6856008548492745,\n          3.893742832495525,\n          1.093014102054744\n        ],\n        \"semantic_type\": \"\",\n        \"description\": \"\"\n      }\n    },\n    {\n      \"column\": \"humidity\",\n      \"properties\": {\n        \"dtype\": \"number\",\n        \"std\": 11.841478762776916,\n        \"min\": 10.215076711940103,\n        \"max\": 89.98471787562592,\n        \"num_unique_values\": 7672,\n        \"samples\": [\n          62.00676891585247,\n          27.16241830980172,\n          70.91665435270079\n        ],\n        \"semantic_type\": \"\",\n        \"description\": \"\"\n      }\n    },\n    {\n      \"column\": \"equipment\",\n      \"properties\": {\n        \"dtype\": \"category\",\n        \"num_unique_values\": 3,\n        \"samples\": [\n          \"Turbine\",\n          \"Compressor\",\n          \"Pump\"\n        ],\n        \"semantic_type\": \"\",\n        \"description\": \"\"\n      }\n    },\n    {\n      \"column\": \"location\",\n      \"properties\": {\n        \"dtype\": \"category\",\n        \"num_unique_values\": 5,\n        \"samples\": [\n          \"Chicago\",\n          \"Houston\",\n          \"San Francisco\"\n        ],\n        \"semantic_type\": \"\",\n        \"description\": \"\"\n      }\n    },\n    {\n      \"column\": \"faulty\",\n      \"properties\": {\n        \"dtype\": \"number\",\n        \"std\": 0.2999847896866024,\n        \"min\": 0.0,\n        \"max\": 1.0,\n        \"num_unique_values\": 2,\n        \"samples\": [\n          1.0,\n          0.0\n        ],\n        \"semantic_type\": \"\",\n        \"description\": \"\"\n      }\n    }\n  ]\n}"
            }
          },
          "metadata": {},
          "execution_count": 101
        }
      ]
    },
    {
      "cell_type": "markdown",
      "source": [
        "# Checking for data cleaning issues\n",
        "1. No inconsistencies\n",
        "2. No Structural issues\n",
        "3. Check for dirty data"
      ],
      "metadata": {
        "id": "TPf-h7En2U1L"
      }
    },
    {
      "cell_type": "code",
      "source": [
        "df.columns"
      ],
      "metadata": {
        "colab": {
          "base_uri": "https://localhost:8080/"
        },
        "id": "X7WZ1e_0zK2O",
        "outputId": "0248ac6a-b9db-43ab-97d8-06fc2a0eb331"
      },
      "execution_count": null,
      "outputs": [
        {
          "output_type": "execute_result",
          "data": {
            "text/plain": [
              "Index(['temperature', 'pressure', 'vibration', 'humidity', 'equipment',\n",
              "       'location', 'faulty'],\n",
              "      dtype='object')"
            ]
          },
          "metadata": {},
          "execution_count": 102
        }
      ]
    },
    {
      "cell_type": "code",
      "source": [
        "# #no need of faulty column\n",
        "\n",
        "# df.drop(columns=['faulty'],inplace=True)\n",
        "# df.head()\n"
      ],
      "metadata": {
        "id": "UCP4oLRkFNM2"
      },
      "execution_count": null,
      "outputs": []
    },
    {
      "cell_type": "code",
      "source": [
        "df.info()"
      ],
      "metadata": {
        "colab": {
          "base_uri": "https://localhost:8080/"
        },
        "id": "NfBjDIF82HMf",
        "outputId": "26c72000-9b1b-4a89-b93f-1f89f9a62385"
      },
      "execution_count": null,
      "outputs": [
        {
          "output_type": "stream",
          "name": "stdout",
          "text": [
            "<class 'pandas.core.frame.DataFrame'>\n",
            "RangeIndex: 7672 entries, 0 to 7671\n",
            "Data columns (total 7 columns):\n",
            " #   Column       Non-Null Count  Dtype  \n",
            "---  ------       --------------  -----  \n",
            " 0   temperature  7672 non-null   float64\n",
            " 1   pressure     7672 non-null   float64\n",
            " 2   vibration    7672 non-null   float64\n",
            " 3   humidity     7672 non-null   float64\n",
            " 4   equipment    7672 non-null   object \n",
            " 5   location     7672 non-null   object \n",
            " 6   faulty       7672 non-null   float64\n",
            "dtypes: float64(5), object(2)\n",
            "memory usage: 419.7+ KB\n"
          ]
        }
      ]
    },
    {
      "cell_type": "code",
      "source": [
        "df.shape"
      ],
      "metadata": {
        "colab": {
          "base_uri": "https://localhost:8080/"
        },
        "id": "Z0Ss9LbF2HG5",
        "outputId": "67290280-f97e-49a3-e090-7a458f79c629"
      },
      "execution_count": null,
      "outputs": [
        {
          "output_type": "execute_result",
          "data": {
            "text/plain": [
              "(7672, 7)"
            ]
          },
          "metadata": {},
          "execution_count": 105
        }
      ]
    },
    {
      "cell_type": "code",
      "source": [
        "cat_col = df.astype('object').columns\n",
        "cat_col"
      ],
      "metadata": {
        "colab": {
          "base_uri": "https://localhost:8080/"
        },
        "id": "wsaCaABi3Pvt",
        "outputId": "e492b5e9-9ebc-4010-fe3c-17251dfe9c81"
      },
      "execution_count": null,
      "outputs": [
        {
          "output_type": "execute_result",
          "data": {
            "text/plain": [
              "Index(['temperature', 'pressure', 'vibration', 'humidity', 'equipment',\n",
              "       'location', 'faulty'],\n",
              "      dtype='object')"
            ]
          },
          "metadata": {},
          "execution_count": 106
        }
      ]
    },
    {
      "cell_type": "code",
      "source": [
        "df.info()"
      ],
      "metadata": {
        "colab": {
          "base_uri": "https://localhost:8080/"
        },
        "id": "JXI6AuwG3PsL",
        "outputId": "af3e58e8-3d3a-49a2-9f0e-62fd14ba5f47"
      },
      "execution_count": null,
      "outputs": [
        {
          "output_type": "stream",
          "name": "stdout",
          "text": [
            "<class 'pandas.core.frame.DataFrame'>\n",
            "RangeIndex: 7672 entries, 0 to 7671\n",
            "Data columns (total 7 columns):\n",
            " #   Column       Non-Null Count  Dtype  \n",
            "---  ------       --------------  -----  \n",
            " 0   temperature  7672 non-null   float64\n",
            " 1   pressure     7672 non-null   float64\n",
            " 2   vibration    7672 non-null   float64\n",
            " 3   humidity     7672 non-null   float64\n",
            " 4   equipment    7672 non-null   object \n",
            " 5   location     7672 non-null   object \n",
            " 6   faulty       7672 non-null   float64\n",
            "dtypes: float64(5), object(2)\n",
            "memory usage: 419.7+ KB\n"
          ]
        }
      ]
    },
    {
      "cell_type": "code",
      "source": [
        "cat_cols =  df.select_dtypes(include='object').columns.tolist()"
      ],
      "metadata": {
        "id": "cEgCkWio3Ppx"
      },
      "execution_count": null,
      "outputs": []
    },
    {
      "cell_type": "code",
      "source": [
        "num_cols =  df.select_dtypes(exclude='object').columns.tolist()\n"
      ],
      "metadata": {
        "id": "qxL9tNbf3Pnd"
      },
      "execution_count": null,
      "outputs": []
    },
    {
      "cell_type": "code",
      "source": [
        "#read and preprocess the dataset\n",
        "df.isnull().sum()"
      ],
      "metadata": {
        "colab": {
          "base_uri": "https://localhost:8080/",
          "height": 303
        },
        "id": "Qnh3n4un3Pk7",
        "outputId": "5de7b056-6e87-40f5-db5c-6b04e2336080"
      },
      "execution_count": null,
      "outputs": [
        {
          "output_type": "execute_result",
          "data": {
            "text/plain": [
              "temperature    0\n",
              "pressure       0\n",
              "vibration      0\n",
              "humidity       0\n",
              "equipment      0\n",
              "location       0\n",
              "faulty         0\n",
              "dtype: int64"
            ],
            "text/html": [
              "<div>\n",
              "<style scoped>\n",
              "    .dataframe tbody tr th:only-of-type {\n",
              "        vertical-align: middle;\n",
              "    }\n",
              "\n",
              "    .dataframe tbody tr th {\n",
              "        vertical-align: top;\n",
              "    }\n",
              "\n",
              "    .dataframe thead th {\n",
              "        text-align: right;\n",
              "    }\n",
              "</style>\n",
              "<table border=\"1\" class=\"dataframe\">\n",
              "  <thead>\n",
              "    <tr style=\"text-align: right;\">\n",
              "      <th></th>\n",
              "      <th>0</th>\n",
              "    </tr>\n",
              "  </thead>\n",
              "  <tbody>\n",
              "    <tr>\n",
              "      <th>temperature</th>\n",
              "      <td>0</td>\n",
              "    </tr>\n",
              "    <tr>\n",
              "      <th>pressure</th>\n",
              "      <td>0</td>\n",
              "    </tr>\n",
              "    <tr>\n",
              "      <th>vibration</th>\n",
              "      <td>0</td>\n",
              "    </tr>\n",
              "    <tr>\n",
              "      <th>humidity</th>\n",
              "      <td>0</td>\n",
              "    </tr>\n",
              "    <tr>\n",
              "      <th>equipment</th>\n",
              "      <td>0</td>\n",
              "    </tr>\n",
              "    <tr>\n",
              "      <th>location</th>\n",
              "      <td>0</td>\n",
              "    </tr>\n",
              "    <tr>\n",
              "      <th>faulty</th>\n",
              "      <td>0</td>\n",
              "    </tr>\n",
              "  </tbody>\n",
              "</table>\n",
              "</div><br><label><b>dtype:</b> int64</label>"
            ]
          },
          "metadata": {},
          "execution_count": 110
        }
      ]
    },
    {
      "cell_type": "code",
      "source": [
        "#checking for class imbalances\n",
        "df['faulty'].value_counts()\n"
      ],
      "metadata": {
        "colab": {
          "base_uri": "https://localhost:8080/",
          "height": 178
        },
        "id": "ETo307g840vi",
        "outputId": "5f11436d-155d-4a48-bb6c-9fba4bf94188"
      },
      "execution_count": null,
      "outputs": [
        {
          "output_type": "execute_result",
          "data": {
            "text/plain": [
              "faulty\n",
              "0.0    6905\n",
              "1.0     767\n",
              "Name: count, dtype: int64"
            ],
            "text/html": [
              "<div>\n",
              "<style scoped>\n",
              "    .dataframe tbody tr th:only-of-type {\n",
              "        vertical-align: middle;\n",
              "    }\n",
              "\n",
              "    .dataframe tbody tr th {\n",
              "        vertical-align: top;\n",
              "    }\n",
              "\n",
              "    .dataframe thead th {\n",
              "        text-align: right;\n",
              "    }\n",
              "</style>\n",
              "<table border=\"1\" class=\"dataframe\">\n",
              "  <thead>\n",
              "    <tr style=\"text-align: right;\">\n",
              "      <th></th>\n",
              "      <th>count</th>\n",
              "    </tr>\n",
              "    <tr>\n",
              "      <th>faulty</th>\n",
              "      <th></th>\n",
              "    </tr>\n",
              "  </thead>\n",
              "  <tbody>\n",
              "    <tr>\n",
              "      <th>0.0</th>\n",
              "      <td>6905</td>\n",
              "    </tr>\n",
              "    <tr>\n",
              "      <th>1.0</th>\n",
              "      <td>767</td>\n",
              "    </tr>\n",
              "  </tbody>\n",
              "</table>\n",
              "</div><br><label><b>dtype:</b> int64</label>"
            ]
          },
          "metadata": {},
          "execution_count": 111
        }
      ]
    },
    {
      "cell_type": "markdown",
      "source": [
        "## There is no need for feature engineering till now so we are doung EDA"
      ],
      "metadata": {
        "id": "HfbAhoz54Qfs"
      }
    },
    {
      "cell_type": "code",
      "source": [
        "# Compute correlation matrix\n",
        "corr_matrix = df[num_cols].corr()\n",
        "\n",
        "# Plot heatmap\n",
        "plt.figure(figsize=(10, 8))\n",
        "sns.heatmap(corr_matrix, annot=True, cmap='coolwarm', linewidths=0.5)\n",
        "plt.title(\"Correlation Heatmap of Features\", fontsize=16)\n",
        "plt.show()\n",
        "\n",
        "\n",
        "#there is not highly correlated features that can affect the anomaly of others"
      ],
      "metadata": {
        "colab": {
          "base_uri": "https://localhost:8080/",
          "height": 705
        },
        "id": "oB0n2m_K3PiU",
        "outputId": "50041247-2c16-48ed-fb03-9a0e95597719"
      },
      "execution_count": null,
      "outputs": [
        {
          "output_type": "display_data",
          "data": {
            "text/plain": [
              "<Figure size 1000x800 with 2 Axes>"
            ],
            "image/png": "[encoded data removed]"
          },
          "metadata": {}
        }
      ]
    },
    {
      "cell_type": "code",
      "source": [
        "# @title Default title text\n",
        "#outlier detection\n",
        "\n",
        "import pandas as pd\n",
        "import matplotlib.pyplot as plt\n",
        "import pprint\n",
        "\n",
        "def quantify_outliers(df, columns):\n",
        "    \"\"\"\n",
        "    Identifies and quantifies outliers in the given numerical columns using the IQR method.\n",
        "\n",
        "    Parameters:\n",
        "        df (pd.DataFrame): The dataset\n",
        "        columns (list): List of numerical columns to check for outliers\n",
        "\n",
        "    Returns:\n",
        "        dict: A dictionary containing the count and percentage of outliers for each column\n",
        "    \"\"\"\n",
        "\n",
        "    outlier_counts = {}\n",
        "\n",
        "    print(\"\\n📌 Outlier Detection Report (IQR Method):\\n\" + \"-\"*50)\n",
        "\n",
        "    for col in columns:\n",
        "        # Calculate Q1 (25th percentile) and Q3 (75th percentile)\n",
        "        Q1, Q3 = df[col].quantile([0.25, 0.75])\n",
        "\n",
        "        # Calculate IQR\n",
        "        IQR = Q3 - Q1\n",
        "\n",
        "        # Calculate the outlier boundaries\n",
        "        lower_bound = Q1 - 1.5 * IQR\n",
        "        upper_bound = Q3 + 1.5 * IQR\n",
        "\n",
        "        # Count outliers\n",
        "        outlier_mask = (df[col] < lower_bound) | (df[col] > upper_bound)\n",
        "        outlier_count = outlier_mask.sum()\n",
        "        outlier_percentage = round((outlier_count / len(df)) * 100, 2)\n",
        "\n",
        "        # Store results\n",
        "        outlier_counts[col] = {\n",
        "            'Outlier Count': outlier_count,\n",
        "            'Outlier Percentage': f\"{outlier_percentage} %\"\n",
        "        }\n",
        "\n",
        "        # Print summary for better readability\n",
        "        print(f\"📊 Column: {col}\")\n",
        "        print(f\"   - Outliers: {outlier_count} ({outlier_percentage}%)\")\n",
        "        print(f\"   - IQR Range: ({lower_bound:.2f}, {upper_bound:.2f})\\n\")\n",
        "\n",
        "    return outlier_counts\n",
        "\n",
        "# Get the outlier report\n",
        "outlier_report = quantify_outliers(df, num_cols)\n",
        "\n",
        "# Display the report in a structured way\n",
        "print(\"\\n🔍 Summary Report:\")\n",
        "pprint.pprint(outlier_report)\n",
        "\n",
        "# Plot outlier distributions for better visualization\n",
        "plt.figure(figsize=(12, 5))\n",
        "df[num_cols].boxplot(rot=45)\n",
        "plt.title(\"Outlier Distribution in Numerical Columns\")\n",
        "plt.ylabel(\"Values\")\n",
        "plt.show()\n"
      ],
      "metadata": {
        "colab": {
          "base_uri": "https://localhost:8080/",
          "height": 1000
        },
        "id": "17u4PF4r2G8i",
        "outputId": "c874dab5-1e77-4725-ec71-6f350a1d2e5e"
      },
      "execution_count": null,
      "outputs": [
        {
          "output_type": "stream",
          "name": "stdout",
          "text": [
            "\n",
            "📌 Outlier Detection Report (IQR Method):\n",
            "--------------------------------------------------\n",
            "📊 Column: temperature\n",
            "   - Outliers: 462 (6.02%)\n",
            "   - IQR Range: (40.59, 99.76)\n",
            "\n",
            "📊 Column: pressure\n",
            "   - Outliers: 310 (4.04%)\n",
            "   - IQR Range: (11.97, 58.67)\n",
            "\n",
            "📊 Column: vibration\n",
            "   - Outliers: 327 (4.26%)\n",
            "   - IQR Range: (0.04, 3.06)\n",
            "\n",
            "📊 Column: humidity\n",
            "   - Outliers: 211 (2.75%)\n",
            "   - IQR Range: (20.52, 79.43)\n",
            "\n",
            "📊 Column: faulty\n",
            "   - Outliers: 767 (10.0%)\n",
            "   - IQR Range: (0.00, 0.00)\n",
            "\n",
            "\n",
            "🔍 Summary Report:\n",
            "{'faulty': {'Outlier Count': np.int64(767), 'Outlier Percentage': '10.0 %'},\n",
            " 'humidity': {'Outlier Count': np.int64(211), 'Outlier Percentage': '2.75 %'},\n",
            " 'pressure': {'Outlier Count': np.int64(310), 'Outlier Percentage': '4.04 %'},\n",
            " 'temperature': {'Outlier Count': np.int64(462),\n",
            "                 'Outlier Percentage': '6.02 %'},\n",
            " 'vibration': {'Outlier Count': np.int64(327), 'Outlier Percentage': '4.26 %'}}\n"
          ]
        },
        {
          "output_type": "display_data",
          "data": {
            "text/plain": [
              "<Figure size 1200x500 with 1 Axes>"
            ],
            "image/png": "[encoded data removed]"
          },
          "metadata": {}
        }
      ]
    },
    {
      "cell_type": "code",
      "source": [
        "#One Hot encoding of categorical features\n",
        "\n",
        "from sklearn.preprocessing import OneHotEncoder\n",
        "\n",
        "encoder = OneHotEncoder(sparse_output=False)\n",
        "\n",
        "# Perform one-hot encoding\n",
        "encoded_data = encoder.fit_transform(df[cat_cols])\n",
        "\n",
        "# Convert numpy array to DataFrame with appropriate column names\n",
        "encoded_df = pd.DataFrame(encoded_data, columns=encoder.get_feature_names_out(cat_cols))\n",
        "\n",
        "# Concatenate the encoded columns to the original DataFrame\n",
        "df = pd.concat([df.drop(columns=cat_cols), encoded_df], axis=1)\n"
      ],
      "metadata": {
        "id": "hhY2jFz72GlR"
      },
      "execution_count": null,
      "outputs": []
    },
    {
      "cell_type": "code",
      "source": [
        "df.head(5)"
      ],
      "metadata": {
        "colab": {
          "base_uri": "https://localhost:8080/",
          "height": 243
        },
        "id": "yG3t2kgLKO2O",
        "outputId": "5bf3b0dc-0b95-49eb-f3fa-50dd046e9f8d"
      },
      "execution_count": null,
      "outputs": [
        {
          "output_type": "execute_result",
          "data": {
            "text/plain": [
              "   temperature  pressure  vibration  humidity  faulty  equipment_Compressor  \\\n",
              "0     0.343641  0.280705   0.190950  0.444779     0.0                   0.0   \n",
              "1     0.469594  0.253494   0.510504  0.396797     0.0                   1.0   \n",
              "2     0.438164  0.310174   0.335390  0.611001     0.0                   0.0   \n",
              "3     0.440017  0.375289   0.405792  0.380471     0.0                   0.0   \n",
              "4     0.403364  0.545147   0.142762  0.414177     0.0                   0.0   \n",
              "\n",
              "   equipment_Pump  equipment_Turbine  location_Atlanta  location_Chicago  \\\n",
              "0             0.0                1.0               1.0               0.0   \n",
              "1             0.0                0.0               0.0               1.0   \n",
              "2             0.0                1.0               0.0               0.0   \n",
              "3             1.0                0.0               1.0               0.0   \n",
              "4             1.0                0.0               0.0               0.0   \n",
              "\n",
              "   location_Houston  location_New York  location_San Francisco  Anomaly  \n",
              "0               0.0                0.0                     0.0        1  \n",
              "1               0.0                0.0                     0.0        1  \n",
              "2               0.0                0.0                     1.0        1  \n",
              "3               0.0                0.0                     0.0        1  \n",
              "4               0.0                1.0                     0.0        1  "
            ],
            "text/html": [
              "\n",
              "  <div id=\"df-1fb698ac-b14d-4a9e-a925-8bff8cd0f7c6\" class=\"colab-df-container\">\n",
              "    <div>\n",
              "<style scoped>\n",
              "    .dataframe tbody tr th:only-of-type {\n",
              "        vertical-align: middle;\n",
              "    }\n",
              "\n",
              "    .dataframe tbody tr th {\n",
              "        vertical-align: top;\n",
              "    }\n",
              "\n",
              "    .dataframe thead th {\n",
              "        text-align: right;\n",
              "    }\n",
              "</style>\n",
              "<table border=\"1\" class=\"dataframe\">\n",
              "  <thead>\n",
              "    <tr style=\"text-align: right;\">\n",
              "      <th></th>\n",
              "      <th>temperature</th>\n",
              "      <th>pressure</th>\n",
              "      <th>vibration</th>\n",
              "      <th>humidity</th>\n",
              "      <th>faulty</th>\n",
              "      <th>equipment_Compressor</th>\n",
              "      <th>equipment_Pump</th>\n",
              "      <th>equipment_Turbine</th>\n",
              "      <th>location_Atlanta</th>\n",
              "      <th>location_Chicago</th>\n",
              "      <th>location_Houston</th>\n",
              "      <th>location_New York</th>\n",
              "      <th>location_San Francisco</th>\n",
              "      <th>Anomaly</th>\n",
              "    </tr>\n",
              "  </thead>\n",
              "  <tbody>\n",
              "    <tr>\n",
              "      <th>0</th>\n",
              "      <td>0.343641</td>\n",
              "      <td>0.280705</td>\n",
              "      <td>0.190950</td>\n",
              "      <td>0.444779</td>\n",
              "      <td>0.0</td>\n",
              "      <td>0.0</td>\n",
              "      <td>0.0</td>\n",
              "      <td>1.0</td>\n",
              "      <td>1.0</td>\n",
              "      <td>0.0</td>\n",
              "      <td>0.0</td>\n",
              "      <td>0.0</td>\n",
              "      <td>0.0</td>\n",
              "      <td>1</td>\n",
              "    </tr>\n",
              "    <tr>\n",
              "      <th>1</th>\n",
              "      <td>0.469594</td>\n",
              "      <td>0.253494</td>\n",
              "      <td>0.510504</td>\n",
              "      <td>0.396797</td>\n",
              "      <td>0.0</td>\n",
              "      <td>1.0</td>\n",
              "      <td>0.0</td>\n",
              "      <td>0.0</td>\n",
              "      <td>0.0</td>\n",
              "      <td>1.0</td>\n",
              "      <td>0.0</td>\n",
              "      <td>0.0</td>\n",
              "      <td>0.0</td>\n",
              "      <td>1</td>\n",
              "    </tr>\n",
              "    <tr>\n",
              "      <th>2</th>\n",
              "      <td>0.438164</td>\n",
              "      <td>0.310174</td>\n",
              "      <td>0.335390</td>\n",
              "      <td>0.611001</td>\n",
              "      <td>0.0</td>\n",
              "      <td>0.0</td>\n",
              "      <td>0.0</td>\n",
              "      <td>1.0</td>\n",
              "      <td>0.0</td>\n",
              "      <td>0.0</td>\n",
              "      <td>0.0</td>\n",
              "      <td>0.0</td>\n",
              "      <td>1.0</td>\n",
              "      <td>1</td>\n",
              "    </tr>\n",
              "    <tr>\n",
              "      <th>3</th>\n",
              "      <td>0.440017</td>\n",
              "      <td>0.375289</td>\n",
              "      <td>0.405792</td>\n",
              "      <td>0.380471</td>\n",
              "      <td>0.0</td>\n",
              "      <td>0.0</td>\n",
              "      <td>1.0</td>\n",
              "      <td>0.0</td>\n",
              "      <td>1.0</td>\n",
              "      <td>0.0</td>\n",
              "      <td>0.0</td>\n",
              "      <td>0.0</td>\n",
              "      <td>0.0</td>\n",
              "      <td>1</td>\n",
              "    </tr>\n",
              "    <tr>\n",
              "      <th>4</th>\n",
              "      <td>0.403364</td>\n",
              "      <td>0.545147</td>\n",
              "      <td>0.142762</td>\n",
              "      <td>0.414177</td>\n",
              "      <td>0.0</td>\n",
              "      <td>0.0</td>\n",
              "      <td>1.0</td>\n",
              "      <td>0.0</td>\n",
              "      <td>0.0</td>\n",
              "      <td>0.0</td>\n",
              "      <td>0.0</td>\n",
              "      <td>1.0</td>\n",
              "      <td>0.0</td>\n",
              "      <td>1</td>\n",
              "    </tr>\n",
              "  </tbody>\n",
              "</table>\n",
              "</div>\n",
              "    <div class=\"colab-df-buttons\">\n",
              "\n",
              "  <div class=\"colab-df-container\">\n",
              "    <button class=\"colab-df-convert\" onclick=\"convertToInteractive('df-1fb698ac-b14d-4a9e-a925-8bff8cd0f7c6')\"\n",
              "            title=\"Convert this dataframe to an interactive table.\"\n",
              "            style=\"display:none;\">\n",
              "\n",
              "  <svg xmlns=\"http://www.w3.org/2000/svg\" height=\"24px\" viewBox=\"0 -960 960 960\">\n",
              "    <path d=\"M120-120v-720h720v720H120Zm60-500h600v-160H180v160Zm220 220h160v-160H400v160Zm0 220h160v-160H400v160ZM180-400h160v-160H180v160Zm440 0h160v-160H620v160ZM180-180h160v-160H180v160Zm440 0h160v-160H620v160Z\"/>\n",
              "  </svg>\n",
              "    </button>\n",
              "\n",
              "  <style>\n",
              "    .colab-df-container {\n",
              "      display:flex;\n",
              "      gap: 12px;\n",
              "    }\n",
              "\n",
              "    .colab-df-convert {\n",
              "      background-color: #E8F0FE;\n",
              "      border: none;\n",
              "      border-radius: 50%;\n",
              "      cursor: pointer;\n",
              "      display: none;\n",
              "      fill: #1967D2;\n",
              "      height: 32px;\n",
              "      padding: 0 0 0 0;\n",
              "      width: 32px;\n",
              "    }\n",
              "\n",
              "    .colab-df-convert:hover {\n",
              "      background-color: #E2EBFA;\n",
              "      box-shadow: 0px 1px 2px rgba(60, 64, 67, 0.3), 0px 1px 3px 1px rgba(60, 64, 67, 0.15);\n",
              "      fill: #174EA6;\n",
              "    }\n",
              "\n",
              "    .colab-df-buttons div {\n",
              "      margin-bottom: 4px;\n",
              "    }\n",
              "\n",
              "    [theme=dark] .colab-df-convert {\n",
              "      background-color: #3B4455;\n",
              "      fill: #D2E3FC;\n",
              "    }\n",
              "\n",
              "    [theme=dark] .colab-df-convert:hover {\n",
              "      background-color: #434B5C;\n",
              "      box-shadow: 0px 1px 3px 1px rgba(0, 0, 0, 0.15);\n",
              "      filter: drop-shadow(0px 1px 2px rgba(0, 0, 0, 0.3));\n",
              "      fill: #FFFFFF;\n",
              "    }\n",
              "  </style>\n",
              "\n",
              "    <script>\n",
              "      const buttonEl =\n",
              "        document.querySelector('#df-1fb698ac-b14d-4a9e-a925-8bff8cd0f7c6 button.colab-df-convert');\n",
              "      buttonEl.style.display =\n",
              "        google.colab.kernel.accessAllowed ? 'block' : 'none';\n",
              "\n",
              "      async function convertToInteractive(key) {\n",
              "        const element = document.querySelector('#df-1fb698ac-b14d-4a9e-a925-8bff8cd0f7c6');\n",
              "        const dataTable =\n",
              "          await google.colab.kernel.invokeFunction('convertToInteractive',\n",
              "                                                    [key], {});\n",
              "        if (!dataTable) return;\n",
              "\n",
              "        const docLinkHtml = 'Like what you see? Visit the ' +\n",
              "          '<a target=\"_blank\" href=https://colab.research.google.com/notebooks/data_table.ipynb>data table notebook</a>'\n",
              "          + ' to learn more about interactive tables.';\n",
              "        element.innerHTML = '';\n",
              "        dataTable['output_type'] = 'display_data';\n",
              "        await google.colab.output.renderOutput(dataTable, element);\n",
              "        const docLink = document.createElement('div');\n",
              "        docLink.innerHTML = docLinkHtml;\n",
              "        element.appendChild(docLink);\n",
              "      }\n",
              "    </script>\n",
              "  </div>\n",
              "\n",
              "\n",
              "<div id=\"df-bb332a5c-0983-474a-a857-aa2fbdf50157\">\n",
              "  <button class=\"colab-df-quickchart\" onclick=\"quickchart('df-bb332a5c-0983-474a-a857-aa2fbdf50157')\"\n",
              "            title=\"Suggest charts\"\n",
              "            style=\"display:none;\">\n",
              "\n",
              "<svg xmlns=\"http://www.w3.org/2000/svg\" height=\"24px\"viewBox=\"0 0 24 24\"\n",
              "     width=\"24px\">\n",
              "    <g>\n",
              "        <path d=\"M19 3H5c-1.1 0-2 .9-2 2v14c0 1.1.9 2 2 2h14c1.1 0 2-.9 2-2V5c0-1.1-.9-2-2-2zM9 17H7v-7h2v7zm4 0h-2V7h2v10zm4 0h-2v-4h2v4z\"/>\n",
              "    </g>\n",
              "</svg>\n",
              "  </button>\n",
              "\n",
              "<style>\n",
              "  .colab-df-quickchart {\n",
              "      --bg-color: #E8F0FE;\n",
              "      --fill-color: #1967D2;\n",
              "      --hover-bg-color: #E2EBFA;\n",
              "      --hover-fill-color: #174EA6;\n",
              "      --disabled-fill-color: #AAA;\n",
              "      --disabled-bg-color: #DDD;\n",
              "  }\n",
              "\n",
              "  [theme=dark] .colab-df-quickchart {\n",
              "      --bg-color: #3B4455;\n",
              "      --fill-color: #D2E3FC;\n",
              "      --hover-bg-color: #434B5C;\n",
              "      --hover-fill-color: #FFFFFF;\n",
              "      --disabled-bg-color: #3B4455;\n",
              "      --disabled-fill-color: #666;\n",
              "  }\n",
              "\n",
              "  .colab-df-quickchart {\n",
              "    background-color: var(--bg-color);\n",
              "    border: none;\n",
              "    border-radius: 50%;\n",
              "    cursor: pointer;\n",
              "    display: none;\n",
              "    fill: var(--fill-color);\n",
              "    height: 32px;\n",
              "    padding: 0;\n",
              "    width: 32px;\n",
              "  }\n",
              "\n",
              "  .colab-df-quickchart:hover {\n",
              "    background-color: var(--hover-bg-color);\n",
              "    box-shadow: 0 1px 2px rgba(60, 64, 67, 0.3), 0 1px 3px 1px rgba(60, 64, 67, 0.15);\n",
              "    fill: var(--button-hover-fill-color);\n",
              "  }\n",
              "\n",
              "  .colab-df-quickchart-complete:disabled,\n",
              "  .colab-df-quickchart-complete:disabled:hover {\n",
              "    background-color: var(--disabled-bg-color);\n",
              "    fill: var(--disabled-fill-color);\n",
              "    box-shadow: none;\n",
              "  }\n",
              "\n",
              "  .colab-df-spinner {\n",
              "    border: 2px solid var(--fill-color);\n",
              "    border-color: transparent;\n",
              "    border-bottom-color: var(--fill-color);\n",
              "    animation:\n",
              "      spin 1s steps(1) infinite;\n",
              "  }\n",
              "\n",
              "  @keyframes spin {\n",
              "    0% {\n",
              "      border-color: transparent;\n",
              "      border-bottom-color: var(--fill-color);\n",
              "      border-left-color: var(--fill-color);\n",
              "    }\n",
              "    20% {\n",
              "      border-color: transparent;\n",
              "      border-left-color: var(--fill-color);\n",
              "      border-top-color: var(--fill-color);\n",
              "    }\n",
              "    30% {\n",
              "      border-color: transparent;\n",
              "      border-left-color: var(--fill-color);\n",
              "      border-top-color: var(--fill-color);\n",
              "      border-right-color: var(--fill-color);\n",
              "    }\n",
              "    40% {\n",
              "      border-color: transparent;\n",
              "      border-right-color: var(--fill-color);\n",
              "      border-top-color: var(--fill-color);\n",
              "    }\n",
              "    60% {\n",
              "      border-color: transparent;\n",
              "      border-right-color: var(--fill-color);\n",
              "    }\n",
              "    80% {\n",
              "      border-color: transparent;\n",
              "      border-right-color: var(--fill-color);\n",
              "      border-bottom-color: var(--fill-color);\n",
              "    }\n",
              "    90% {\n",
              "      border-color: transparent;\n",
              "      border-bottom-color: var(--fill-color);\n",
              "    }\n",
              "  }\n",
              "</style>\n",
              "\n",
              "  <script>\n",
              "    async function quickchart(key) {\n",
              "      const quickchartButtonEl =\n",
              "        document.querySelector('#' + key + ' button');\n",
              "      quickchartButtonEl.disabled = true;  // To prevent multiple clicks.\n",
              "      quickchartButtonEl.classList.add('colab-df-spinner');\n",
              "      try {\n",
              "        const charts = await google.colab.kernel.invokeFunction(\n",
              "            'suggestCharts', [key], {});\n",
              "      } catch (error) {\n",
              "        console.error('Error during call to suggestCharts:', error);\n",
              "      }\n",
              "      quickchartButtonEl.classList.remove('colab-df-spinner');\n",
              "      quickchartButtonEl.classList.add('colab-df-quickchart-complete');\n",
              "    }\n",
              "    (() => {\n",
              "      let quickchartButtonEl =\n",
              "        document.querySelector('#df-bb332a5c-0983-474a-a857-aa2fbdf50157 button');\n",
              "      quickchartButtonEl.style.display =\n",
              "        google.colab.kernel.accessAllowed ? 'block' : 'none';\n",
              "    })();\n",
              "  </script>\n",
              "</div>\n",
              "\n",
              "    </div>\n",
              "  </div>\n"
            ],
            "application/vnd.google.colaboratory.intrinsic+json": {
              "type": "dataframe",
              "variable_name": "df",
              "summary": "{\n  \"name\": \"df\",\n  \"rows\": 7672,\n  \"fields\": [\n    {\n      \"column\": \"temperature\",\n      \"properties\": {\n        \"dtype\": \"number\",\n        \"std\": 0.11619522766223055,\n        \"min\": 0.0,\n        \"max\": 1.0,\n        \"num_unique_values\": 7672,\n        \"samples\": [\n          0.7838727278942315,\n          0.5027716135793796,\n          0.39500897074217994\n        ],\n        \"semantic_type\": \"\",\n        \"description\": \"\"\n      }\n    },\n    {\n      \"column\": \"pressure\",\n      \"properties\": {\n        \"dtype\": \"number\",\n        \"std\": 0.1361218068739048,\n        \"min\": 0.0,\n        \"max\": 1.0000000000000002,\n        \"num_unique_values\": 7672,\n        \"samples\": [\n          0.73159782566463,\n          0.5049615733585664,\n          0.21823152150210642\n        ],\n        \"semantic_type\": \"\",\n        \"description\": \"\"\n      }\n    },\n    {\n      \"column\": \"vibration\",\n      \"properties\": {\n        \"dtype\": \"number\",\n        \"std\": 0.13445231107215608,\n        \"min\": 0.0,\n        \"max\": 0.9999999999999999,\n        \"num_unique_values\": 7672,\n        \"samples\": [\n          0.39008964400608376,\n          0.7975917711304499,\n          0.2807305698550203\n        ],\n        \"semantic_type\": \"\",\n        \"description\": \"\"\n      }\n    },\n    {\n      \"column\": \"humidity\",\n      \"properties\": {\n        \"dtype\": \"number\",\n        \"std\": 0.14844593243786117,\n        \"min\": 0.0,\n        \"max\": 0.9999999999999999,\n        \"num_unique_values\": 7672,\n        \"samples\": [\n          0.6492657036984381,\n          0.21245352681336485,\n          0.7609608963415314\n        ],\n        \"semantic_type\": \"\",\n        \"description\": \"\"\n      }\n    },\n    {\n      \"column\": \"faulty\",\n      \"properties\": {\n        \"dtype\": \"number\",\n        \"std\": 0.2999847896866024,\n        \"min\": 0.0,\n        \"max\": 1.0,\n        \"num_unique_values\": 2,\n        \"samples\": [\n          1.0,\n          0.0\n        ],\n        \"semantic_type\": \"\",\n        \"description\": \"\"\n      }\n    },\n    {\n      \"column\": \"equipment_Compressor\",\n      \"properties\": {\n        \"dtype\": \"number\",\n        \"std\": 0.4721523011137317,\n        \"min\": 0.0,\n        \"max\": 1.0,\n        \"num_unique_values\": 2,\n        \"samples\": [\n          1.0,\n          0.0\n        ],\n        \"semantic_type\": \"\",\n        \"description\": \"\"\n      }\n    },\n    {\n      \"column\": \"equipment_Pump\",\n      \"properties\": {\n        \"dtype\": \"number\",\n        \"std\": 0.47034882863160393,\n        \"min\": 0.0,\n        \"max\": 1.0,\n        \"num_unique_values\": 2,\n        \"samples\": [\n          1.0,\n          0.0\n        ],\n        \"semantic_type\": \"\",\n        \"description\": \"\"\n      }\n    },\n    {\n      \"column\": \"equipment_Turbine\",\n      \"properties\": {\n        \"dtype\": \"number\",\n        \"std\": 0.47178738606417503,\n        \"min\": 0.0,\n        \"max\": 1.0,\n        \"num_unique_values\": 2,\n        \"samples\": [\n          0.0,\n          1.0\n        ],\n        \"semantic_type\": \"\",\n        \"description\": \"\"\n      }\n    },\n    {\n      \"column\": \"location_Atlanta\",\n      \"properties\": {\n        \"dtype\": \"number\",\n        \"std\": 0.40289103164468737,\n        \"min\": 0.0,\n        \"max\": 1.0,\n        \"num_unique_values\": 2,\n        \"samples\": [\n          0.0,\n          1.0\n        ],\n        \"semantic_type\": \"\",\n        \"description\": \"\"\n      }\n    },\n    {\n      \"column\": \"location_Chicago\",\n      \"properties\": {\n        \"dtype\": \"number\",\n        \"std\": 0.4018330613217361,\n        \"min\": 0.0,\n        \"max\": 1.0,\n        \"num_unique_values\": 2,\n        \"samples\": [\n          1.0,\n          0.0\n        ],\n        \"semantic_type\": \"\",\n        \"description\": \"\"\n      }\n    },\n    {\n      \"column\": \"location_Houston\",\n      \"properties\": {\n        \"dtype\": \"number\",\n        \"std\": 0.40134955033047204,\n        \"min\": 0.0,\n        \"max\": 1.0,\n        \"num_unique_values\": 2,\n        \"samples\": [\n          1.0,\n          0.0\n        ],\n        \"semantic_type\": \"\",\n        \"description\": \"\"\n      }\n    },\n    {\n      \"column\": \"location_New York\",\n      \"properties\": {\n        \"dtype\": \"number\",\n        \"std\": 0.39920250361099435,\n        \"min\": 0.0,\n        \"max\": 1.0,\n        \"num_unique_values\": 2,\n        \"samples\": [\n          1.0,\n          0.0\n        ],\n        \"semantic_type\": \"\",\n        \"description\": \"\"\n      }\n    },\n    {\n      \"column\": \"location_San Francisco\",\n      \"properties\": {\n        \"dtype\": \"number\",\n        \"std\": 0.3947095577547351,\n        \"min\": 0.0,\n        \"max\": 1.0,\n        \"num_unique_values\": 2,\n        \"samples\": [\n          1.0,\n          0.0\n        ],\n        \"semantic_type\": \"\",\n        \"description\": \"\"\n      }\n    },\n    {\n      \"column\": \"Anomaly\",\n      \"properties\": {\n        \"dtype\": \"number\",\n        \"std\": 0,\n        \"min\": -1,\n        \"max\": 1,\n        \"num_unique_values\": 2,\n        \"samples\": [\n          -1,\n          1\n        ],\n        \"semantic_type\": \"\",\n        \"description\": \"\"\n      }\n    }\n  ]\n}"
            }
          },
          "metadata": {},
          "execution_count": 119
        }
      ]
    },
    {
      "cell_type": "markdown",
      "source": [
        "## Model Bulding"
      ],
      "metadata": {
        "id": "TKHos2lHPUJJ"
      }
    },
    {
      "cell_type": "code",
      "source": [
        "import numpy as np\n",
        "import pandas as pd\n",
        "import matplotlib.pyplot as plt\n",
        "import seaborn as sns\n",
        "\n",
        "from sklearn.ensemble import IsolationForest\n",
        "from sklearn.svm import OneClassSVM\n",
        "from sklearn.neighbors import LocalOutlierFactor\n",
        "from sklearn.preprocessing import MinMaxScaler\n",
        "from sklearn.metrics import precision_recall_curve, auc\n",
        "\n",
        "# Load Data (Assuming df is already loaded)\n",
        "features = ['temperature', 'pressure', 'vibration', 'humidity']\n",
        "\n",
        "# MinMax Scaling (scales features between 0 and 1)\n",
        "scaler = MinMaxScaler()\n",
        "df_scaled = pd.DataFrame(scaler.fit_transform(df[features]), columns=features)\n",
        "\n",
        "# ------------------------- Isolation Forest -------------------------\n",
        "iso_forest = IsolationForest(contamination=0.1, n_estimators=200, random_state=42)\n",
        "iso_preds = iso_forest.fit_predict(df_scaled)  # -1 = anomaly, 1 = normal\n",
        "iso_scores = iso_forest.decision_function(df_scaled)\n",
        "\n",
        "df['Anomaly_IF'] = iso_preds\n",
        "\n",
        "# ------------------------- One-Class SVM -------------------------\n",
        "oc_svm = OneClassSVM(kernel=\"rbf\", gamma=\"auto\", nu=0.1)\n",
        "oc_preds = oc_svm.fit_predict(df_scaled)  # -1 = anomaly, 1 = normal\n",
        "oc_scores = oc_svm.decision_function(df_scaled)\n",
        "\n",
        "df['Anomaly_SVM'] = oc_preds\n",
        "\n",
        "# ------------------------- Local Outlier Factor (LOF) -------------------------\n",
        "lof = LocalOutlierFactor(n_neighbors=20, contamination=0.1)\n",
        "lof_preds = lof.fit_predict(df_scaled)  # -1 = anomaly, 1 = normal\n",
        "lof_scores = lof.negative_outlier_factor_  # LOF gives negative scores, higher = more normal\n",
        "\n",
        "df['Anomaly_LOF'] = lof_preds"
      ],
      "metadata": {
        "id": "0jtt5NrxzKwj"
      },
      "execution_count": null,
      "outputs": []
    },
    {
      "cell_type": "code",
      "source": [
        "df.info()"
      ],
      "metadata": {
        "colab": {
          "base_uri": "https://localhost:8080/"
        },
        "id": "2rjWZUBPOKil",
        "outputId": "9046bff3-6ffa-46a5-c734-cc502adb039e"
      },
      "execution_count": null,
      "outputs": [
        {
          "output_type": "stream",
          "name": "stdout",
          "text": [
            "<class 'pandas.core.frame.DataFrame'>\n",
            "RangeIndex: 7672 entries, 0 to 7671\n",
            "Data columns (total 18 columns):\n",
            " #   Column                  Non-Null Count  Dtype  \n",
            "---  ------                  --------------  -----  \n",
            " 0   temperature             7672 non-null   float64\n",
            " 1   pressure                7672 non-null   float64\n",
            " 2   vibration               7672 non-null   float64\n",
            " 3   humidity                7672 non-null   float64\n",
            " 4   faulty                  7672 non-null   float64\n",
            " 5   equipment_Compressor    7672 non-null   float64\n",
            " 6   equipment_Pump          7672 non-null   float64\n",
            " 7   equipment_Turbine       7672 non-null   float64\n",
            " 8   location_Atlanta        7672 non-null   float64\n",
            " 9   location_Chicago        7672 non-null   float64\n",
            " 10  location_Houston        7672 non-null   float64\n",
            " 11  location_New York       7672 non-null   float64\n",
            " 12  location_San Francisco  7672 non-null   float64\n",
            " 13  Anomaly                 7672 non-null   int64  \n",
            " 14  Anomaly_IF              7672 non-null   int64  \n",
            " 15  Anomaly_SVM             7672 non-null   int64  \n",
            " 16  Anomaly_LOF             7672 non-null   int64  \n",
            " 17  Anomaly_Hybrid          7672 non-null   int64  \n",
            "dtypes: float64(13), int64(5)\n",
            "memory usage: 1.1 MB\n"
          ]
        }
      ]
    },
    {
      "cell_type": "markdown",
      "source": [
        "## Model Testing"
      ],
      "metadata": {
        "id": "ovRwtLoHZf94"
      }
    },
    {
      "cell_type": "code",
      "source": [
        "from sklearn.metrics import classification_report, precision_recall_fscore_support\n",
        "\n",
        "# Convert anomaly predictions to binary labels (1 = anomaly, 0 = normal)\n",
        "df['Anomaly_IF_Binary'] = (df['Anomaly_IF'] == -1).astype(int)\n",
        "df['Anomaly_SVM_Binary'] = (df['Anomaly_SVM'] == -1).astype(int)\n",
        "df['Anomaly_LOF_Binary'] = (df['Anomaly_LOF'] == -1).astype(int)\n",
        "\n",
        "# Count anomalies detected by each model\n",
        "print(\"Anomaly Counts:\")\n",
        "print(df[['Anomaly_IF_Binary', 'Anomaly_SVM_Binary', 'Anomaly_LOF_Binary']].sum())\n",
        "\n",
        "# Check overlap (how many anomalies are detected by all three models)\n",
        "df['Anomaly_Consensus'] = df[['Anomaly_IF_Binary', 'Anomaly_SVM_Binary', 'Anomaly_LOF_Binary']].sum(axis=1)\n",
        "consensus_counts = df['Anomaly_Consensus'].value_counts().sort_index()\n",
        "\n",
        "print(\"\\nConsensus Analysis (Agreement between models):\")\n",
        "print(consensus_counts)\n",
        "\n",
        "# ------------------------- Precision-Recall Curve -------------------------\n",
        "def plot_precision_recall(y_true, scores, model_name):\n",
        "    precision, recall, _ = precision_recall_curve(y_true, scores)\n",
        "    pr_auc = auc(recall, precision)\n",
        "\n",
        "    plt.plot(recall, precision, label=f\"{model_name} (AUC = {pr_auc:.2f})\")\n",
        "\n",
        "plt.figure(figsize=(8, 6))\n",
        "y_true = (df['faulty'] == 1).astype(int)  # Assuming 'faulty' column is ground truth\n",
        "\n",
        "plot_precision_recall(y_true, -iso_scores, \"Isolation Forest\")  # Lower scores = more anomalous\n",
        "plot_precision_recall(y_true, oc_scores, \"One-Class SVM\")\n",
        "plot_precision_recall(y_true, -lof_scores, \"Local Outlier Factor\")\n",
        "\n",
        "plt.xlabel(\"Recall\")\n",
        "plt.ylabel(\"Precision\")\n",
        "plt.title(\"Precision-Recall Curve\")\n",
        "plt.legend()\n",
        "plt.show()\n",
        "\n",
        "# ------------------------- Performance Metrics -------------------------\n",
        "print(\"\\nClassification Report:\")\n",
        "for model in ['Anomaly_IF_Binary', 'Anomaly_SVM_Binary', 'Anomaly_LOF_Binary']:\n",
        "    precision, recall, fscore, _ = precision_recall_fscore_support(y_true, df[model], average=\"binary\")\n",
        "    print(f\"{model} -> Precision: {precision:.3f}, Recall: {recall:.3f}, F1-Score: {fscore:.3f}\")\n"
      ],
      "metadata": {
        "id": "A3dTtKZqzKtp",
        "colab": {
          "base_uri": "https://localhost:8080/",
          "height": 885
        },
        "outputId": "5862e92d-c63b-4f85-e90c-cc39515af805"
      },
      "execution_count": null,
      "outputs": [
        {
          "output_type": "stream",
          "name": "stdout",
          "text": [
            "Anomaly Counts:\n",
            "Anomaly_IF_Binary     768\n",
            "Anomaly_SVM_Binary    767\n",
            "Anomaly_LOF_Binary    768\n",
            "dtype: int64\n",
            "\n",
            "Consensus Analysis (Agreement between models):\n",
            "Anomaly_Consensus\n",
            "0    6495\n",
            "1     355\n",
            "2     518\n",
            "3     304\n",
            "Name: count, dtype: int64\n"
          ]
        },
        {
          "output_type": "display_data",
          "data": {
            "text/plain": [
              "<Figure size 800x600 with 1 Axes>"
            ],
            "image/png": "[encoded data removed]"
          },
          "metadata": {}
        },
        {
          "output_type": "stream",
          "name": "stdout",
          "text": [
            "\n",
            "Classification Report:\n",
            "Anomaly_IF_Binary -> Precision: 0.898, Recall: 0.900, F1-Score: 0.899\n",
            "Anomaly_SVM_Binary -> Precision: 0.815, Recall: 0.815, F1-Score: 0.815\n",
            "Anomaly_LOF_Binary -> Precision: 0.458, Recall: 0.459, F1-Score: 0.459\n"
          ]
        }
      ]
    },
    {
      "cell_type": "markdown",
      "source": [
        "## Testing model for accuracy"
      ],
      "metadata": {
        "id": "3gQxtNTcZjgG"
      }
    },
    {
      "cell_type": "code",
      "source": [
        "import numpy as np\n",
        "\n",
        "# Example new data point (temperature, pressure, vibration, humidity)\n",
        "new_data = np.array([[50, 5.5, 0.3, 80]])  # Replace with real values\n",
        "\n",
        "# Scale the new data point using the same scaler\n",
        "new_data_scaled = scaler.transform(new_data)\n",
        "\n",
        "# Predict anomaly using Isolation Forest\n",
        "iso_pred = iso_forest.predict(new_data_scaled)  # Output: -1 (anomaly) or 1 (normal)\n",
        "iso_score = iso_forest.decision_function(new_data_scaled)  # Anomaly score\n",
        "\n",
        "# Predict anomaly using Local Outlier Factor (LOF)\n",
        "lof_pred = lof.fit_predict(np.vstack([df_scaled, new_data_scaled]))[-1]  # Only last point's prediction\n",
        "lof_score = lof.negative_outlier_factor_[-1]  # LOF anomaly score for new data\n",
        "\n",
        "# Print results\n",
        "print(f\"Isolation Forest Prediction: {'Anomaly' if iso_pred[0] == -1 else 'Normal'} (Score: {iso_score[0]:.4f})\")\n",
        "print(f\"Local Outlier Factor Prediction: {'Anomaly' if lof_pred == -1 else 'Normal'} (Score: {lof_score:.4f})\")\n"
      ],
      "metadata": {
        "id": "0t8vve9zzKiv",
        "colab": {
          "base_uri": "https://localhost:8080/"
        },
        "outputId": "046d37bc-0cf9-48ab-e170-2f5b3369de56"
      },
      "execution_count": null,
      "outputs": [
        {
          "output_type": "stream",
          "name": "stderr",
          "text": [
            "/usr/local/lib/python3.11/dist-packages/sklearn/utils/validation.py:2739: UserWarning: X does not have valid feature names, but MinMaxScaler was fitted with feature names\n",
            "  warnings.warn(\n",
            "/usr/local/lib/python3.11/dist-packages/sklearn/utils/validation.py:2739: UserWarning: X does not have valid feature names, but IsolationForest was fitted with feature names\n",
            "  warnings.warn(\n",
            "/usr/local/lib/python3.11/dist-packages/sklearn/utils/validation.py:2739: UserWarning: X does not have valid feature names, but IsolationForest was fitted with feature names\n",
            "  warnings.warn(\n"
          ]
        },
        {
          "output_type": "stream",
          "name": "stdout",
          "text": [
            "Isolation Forest Prediction: Anomaly (Score: -0.2075)\n",
            "Local Outlier Factor Prediction: Anomaly (Score: -283.9233)\n"
          ]
        }
      ]
    }
  ]
}